{
 "cells": [
  {
   "cell_type": "code",
   "execution_count": 54,
   "id": "c1bb80bc",
   "metadata": {},
   "outputs": [],
   "source": [
    "import cv2\n",
    "import numpy as np\n",
    "import os\n",
    "import matplotlib.pyplot as plt\n",
    "import math\n",
    "from sklearn.model_selection import train_test_split\n",
    "from sklearn.ensemble import RandomForestClassifier\n",
    "from sklearn.metrics import classification_report"
   ]
  },
  {
   "cell_type": "markdown",
   "id": "eae6021b",
   "metadata": {},
   "source": [
    "Function for extracting a color histogram from a given image; used to extract features of (non)barnacle images:"
   ]
  },
  {
   "cell_type": "code",
   "execution_count": 55,
   "id": "7e2ec44a",
   "metadata": {},
   "outputs": [],
   "source": [
    "def get_hist(image):\n",
    "    \n",
    "    # convert image to HSV\n",
    "    hsv_image = cv2.cvtColor(image, cv2.COLOR_BGR2HSV)\n",
    "    \n",
    "    # get hist for each h s v channel\n",
    "    hist_h = cv2.calcHist([hsv_image], [0], None, [32], [0, 256])\n",
    "    hist_s = cv2.calcHist([hsv_image], [1], None, [32], [0, 256])\n",
    "    hist_v = cv2.calcHist([hsv_image], [2], None, [32], [0, 256])\n",
    "    \n",
    "    # normalize + flatten for each channel\n",
    "    hist_h = cv2.normalize(hist_h, hist_h).flatten()\n",
    "    hist_s = cv2.normalize(hist_s, hist_s).flatten()\n",
    "    hist_v = cv2.normalize(hist_v, hist_v).flatten()\n",
    "    \n",
    "    # concat into single feature vector\n",
    "    feature = np.concatenate([hist_h, hist_s, hist_v])\n",
    "    return feature"
   ]
  },
  {
   "cell_type": "markdown",
   "id": "06eb591a",
   "metadata": {},
   "source": [
    "Function to load images from a directory w two sub-directories (in this case, one folder of barnacle objects and one folder of nonbarnacle objects) to extract features and labels from all images in each sub-directory.\n",
    "The names of the sub-directories ('yes_barnacle' and 'no_barnacle') are used as the labels for the images."
   ]
  },
  {
   "cell_type": "code",
   "execution_count": 65,
   "id": "b7eea271",
   "metadata": {},
   "outputs": [],
   "source": [
    "def load_data(image_dir, sub1, sub2):\n",
    "    \n",
    "    features = []\n",
    "    labels = []\n",
    "    \n",
    "    for label in [sub1, sub2]: # iterate through images in both sub-directories\n",
    "        path = os.path.join(image_dir, label)\n",
    "        for image_name in os.listdir(path):\n",
    "            image_path = os.path.join(path, image_name)\n",
    "            image = cv2.imread(image_path)\n",
    "            if image is not None: # skip unreadable images\n",
    "                features.append(get_hist(image)) # extract features via histogram extraction function + add to list of features\n",
    "                labels.append(label) # extract label from name of the sub-directory name of the image\n",
    "    \n",
    "    return np.array(features), np.array(labels) # return array of features for all images and one of labels"
   ]
  },
  {
   "cell_type": "markdown",
   "id": "c8013961",
   "metadata": {},
   "source": [
    "Function that uses previously trained and fitted model to make a prediction on an image (whether or not the object pictured is a barnacle; should return either 'no_barnacle' or 'yes_barnacle'):"
   ]
  },
  {
   "cell_type": "code",
   "execution_count": 57,
   "id": "261ed408",
   "metadata": {},
   "outputs": [],
   "source": [
    "def predict(img, model):\n",
    "    \n",
    "    #extract features of image\n",
    "    feature = get_hist(img)\n",
    "    prediction = model.predict([feature])\n",
    "    return prediction[0]"
   ]
  },
  {
   "cell_type": "markdown",
   "id": "d95feb95",
   "metadata": {},
   "source": [
    "Function to display training images from a certain sub-directory, taken from a certain provided png image:"
   ]
  },
  {
   "cell_type": "code",
   "execution_count": 64,
   "id": "a0a47203",
   "metadata": {},
   "outputs": [],
   "source": [
    "def show_images(folder, img_num):\n",
    "    \n",
    "    # get all image files from the directory\n",
    "    image_files = [\n",
    "        os.path.join(folder, f)\n",
    "        for f in os.listdir(folder)\n",
    "        if f.lower().startswith(img_num)\n",
    "    ]\n",
    "\n",
    "    # images per row to display\n",
    "    images_per_row = 6\n",
    "\n",
    "    # find number of rows needed\n",
    "    n_images = len(image_files)\n",
    "    n_rows = math.ceil(n_images / images_per_row)\n",
    "\n",
    "    # set up the figure size\n",
    "    plt.figure(figsize=(10, 5 * n_rows))\n",
    "\n",
    "    # uterate over the images and plot them\n",
    "    for idx, file_path in enumerate(image_files):\n",
    "        # load image\n",
    "        image = cv2.imread(file_path)\n",
    "    \n",
    "        # add image to a subplot\n",
    "        plt.subplot(n_rows, images_per_row, idx + 1)\n",
    "        plt.imshow(image_rgb)\n",
    "        plt.title(os.path.basename(file_path), fontsize=10)\n",
    "        plt.axis(\"off\")  \n",
    "\n",
    "    # try to make spacing better (keyword: try)\n",
    "    plt.tight_layout()\n",
    "    plt.show()"
   ]
  },
  {
   "cell_type": "markdown",
   "id": "52da8a11",
   "metadata": {},
   "source": [
    "Function that evaluates the accuracy of the classification model on all the test images (images taken from unseen_img1.png): "
   ]
  },
  {
   "cell_type": "code",
   "execution_count": 67,
   "id": "19dab0da",
   "metadata": {},
   "outputs": [],
   "source": [
    "def evaluate_model(model, yes_b, no_b):\n",
    "    correct_predictions = 0\n",
    "    total_images = 0\n",
    "\n",
    "    # evaluate for barnacle test images\n",
    "    for img_file in os.listdir(yes_b):\n",
    "        img_path = os.path.join(yes_b, img_file)\n",
    "        \n",
    "        # read image\n",
    "        img = cv2.imread(img_path)\n",
    "        if img is None:\n",
    "            print(f\"couldn't load: {img_path}\")\n",
    "            continue\n",
    "        \n",
    "        # extract features + predict\n",
    "        features = get_hist(img)\n",
    "        predicted_label = model.predict([features])[0]\n",
    "        \n",
    "        # add to total predictions if image is predicted as barnacle\n",
    "        if predicted_label == 'yes_barnacle':\n",
    "            correct_predictions += 1\n",
    "        \n",
    "        total_images += 1\n",
    "\n",
    "    # evaluate for non-barnacle test images\n",
    "    for img_file in os.listdir(no_b):\n",
    "        img_path = os.path.join(no_b, img_file)\n",
    "        \n",
    "        # read image\n",
    "        img = cv2.imread(img_path)\n",
    "        if img is None:\n",
    "            print(f\"couldn't load: {img_path}\")\n",
    "            continue\n",
    "        \n",
    "        # extract features + predict\n",
    "        features = get_hist(img)\n",
    "        predicted_label = model.predict([features])[0]\n",
    "        \n",
    "        # add to total predictions if image is predicted as non-barnacle\n",
    "        if predicted_label == 'no_barnacle':\n",
    "            correct_predictions += 1\n",
    "        \n",
    "        total_images += 1 # add to total images predicted\n",
    "\n",
    "    # calculate accuracy + print\n",
    "    accuracy = (correct_predictions / total_images) * 100\n",
    "    print(f\"Accuracy: {accuracy:.2f}% ({correct_predictions}/{total_images})\")\n",
    "    return accuracy"
   ]
  }
 ],
 "metadata": {
  "kernelspec": {
   "display_name": "Python 3 (ipykernel)",
   "language": "python",
   "name": "python3"
  },
  "language_info": {
   "codemirror_mode": {
    "name": "ipython",
    "version": 3
   },
   "file_extension": ".py",
   "mimetype": "text/x-python",
   "name": "python",
   "nbconvert_exporter": "python",
   "pygments_lexer": "ipython3",
   "version": "3.9.13"
  }
 },
 "nbformat": 4,
 "nbformat_minor": 5
}
